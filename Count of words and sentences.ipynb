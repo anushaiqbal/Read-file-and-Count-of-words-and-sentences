{
 "cells": [
  {
   "cell_type": "code",
   "execution_count": 1,
   "id": "481f58f4-af2b-478e-9fde-95b3af2a15ff",
   "metadata": {},
   "outputs": [
    {
     "name": "stdin",
     "output_type": "stream",
     "text": [
      "Enter your text:  The conflict has its origins in the rise of Zionism in Europe and the arrival of Jewish settlers to Ottoman Palestine in the late 19th and early 20th centuries. The local Arab population opposed Zionism, primarily out of fear of territorial displacement and dispossession\n"
     ]
    },
    {
     "name": "stdout",
     "output_type": "stream",
     "text": [
      "The number of words in your text : 44\n",
      "The number of sentences in your text : 1\n"
     ]
    }
   ],
   "source": [
    "#Take input from the user in text format, save their text in a separate file (e.g., xyz.txt). \n",
    "#Read the file you saved (xyz.txt) and write a program to calculate \n",
    "#the number of words and sentences in the text saved in the specified file.\n",
    "\n",
    "def count_words_and_sentences(text):\n",
    "    word_count = len(text.split())\n",
    "    # Assuming that a sentence ends with '.', '!', or '?'.\n",
    "    sentence_count = text.count('.') + text.count('!') + text.count('?')\n",
    "    return word_count, sentence_count\n",
    "\n",
    "def main():\n",
    "    # Take user input\n",
    "    user_input = input(\"Enter your text: \")\n",
    "\n",
    "    # Save user input in a file\n",
    "    with open(\"xyz.txt\", \"w\") as file:\n",
    "        file.write(user_input)\n",
    "\n",
    "    # Read the contents of the file\n",
    "    with open(\"xyz.txt\", \"r\") as file:\n",
    "        text = file.read()\n",
    "\n",
    "    # Calculate the number of words and sentences\n",
    "    word_count, sentence_count = count_words_and_sentences(text)\n",
    "\n",
    "    print(\"The number of words in your text :\" , word_count)\n",
    "    print(\"The number of sentences in your text :\" , sentence_count)\n",
    "\n",
    "if __name__ == \"__main__\":\n",
    "    main()\n"
   ]
  },
  {
   "cell_type": "code",
   "execution_count": null,
   "id": "92f1f37c-b70e-432b-87b7-e24072ce49d2",
   "metadata": {},
   "outputs": [],
   "source": []
  }
 ],
 "metadata": {
  "kernelspec": {
   "display_name": "Python 3 (ipykernel)",
   "language": "python",
   "name": "python3"
  },
  "language_info": {
   "codemirror_mode": {
    "name": "ipython",
    "version": 3
   },
   "file_extension": ".py",
   "mimetype": "text/x-python",
   "name": "python",
   "nbconvert_exporter": "python",
   "pygments_lexer": "ipython3",
   "version": "3.11.7"
  }
 },
 "nbformat": 4,
 "nbformat_minor": 5
}
